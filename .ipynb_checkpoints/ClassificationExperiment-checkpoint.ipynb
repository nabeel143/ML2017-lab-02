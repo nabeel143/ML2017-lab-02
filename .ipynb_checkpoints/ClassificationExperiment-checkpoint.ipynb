{
 "cells": [
  {
   "cell_type": "code",
   "execution_count": 4,
   "metadata": {},
   "outputs": [
    {
     "name": "stderr",
     "output_type": "stream",
     "text": [
      "WARNING:root:[MemorizedFunc(func=<function get_data at 0x00000200A62CE048>, cachedir='./mycache\\\\joblib')]: Clearing cache ./mycache\\joblib\\__main__-C%3A-Users-Ma Li-Desktop-New folder (2)-ML2017-lab-02-__ipython-input__\\get_data\n"
     ]
    },
    {
     "name": "stdout",
     "output_type": "stream",
     "text": [
      "________________________________________________________________________________\n",
      "[Memory] Calling __main__-C%3A-Users-Ma Li-Desktop-New folder (2)-ML2017-lab-02-__ipython-input__.get_data...\n",
      "get_data()\n",
      "_________________________________________________________get_data - 0.0s, 0.0min\n"
     ]
    },
    {
     "data": {
      "image/png": "[encoded data removed]",
      "text/plain": [
       "<matplotlib.figure.Figure at 0x200a620c240>"
      ]
     },
     "metadata": {},
     "output_type": "display_data"
    }
   ],
   "source": [
    "\n",
    "# coding: utf-8\n",
    "import numpy\n",
    "\n",
    "# coding: utf-8\n",
    "import numpy\n",
    "from numpy import random\n",
    "import matplotlib.pyplot as plt\n",
    "from sklearn.externals.joblib import Memory\n",
    "from sklearn.datasets import load_svmlight_file\n",
    "from sklearn.model_selection import train_test_split\n",
    "\n",
    "\n",
    "\n",
    "# Load the experiment data\n",
    "mem = Memory(\"./mycache\")\n",
    "\n",
    "@mem.cache\n",
    "def get_data():\n",
    "    data = load_svmlight_file(r'''C:\\Users\\Ma Li\\Desktop\\seconddata''',n_features=14)    \n",
    "    return data\n",
    "\n",
    "\n",
    "def svm(W, xtrain, ytrain, xtest, ytest, reg):\n",
    "\n",
    "  gW = numpy.zeros(W.shape) \n",
    "  num_classes = W.shape[1]\n",
    "  train_loss = 0\n",
    "  scores_train = xtrain.dot(W)  \n",
    "  num_train = xtrain.shape[0]\n",
    "  scores_train_correct = scores_train[numpy.arange(num_train), ytrain]\n",
    "  scores_train_correct = numpy.reshape(scores_train_correct, (num_train, 1))\n",
    "  margins_train = scores_train - scores_train_correct + 1.0 \n",
    "  margins_train[numpy.arange(num_train), ytrain] = 0.0 \n",
    "  margins_train[margins_train <= 0] = 0.0\n",
    "  train_loss += numpy.sum(margins_train) / num_train\n",
    "  train_loss += 0.5 * reg * numpy.sum(W * W) \n",
    "  margins_train[margins_train > 0] = 1.0                       \n",
    "  row_sum = numpy.sum(margins_train, axis=1)                 \n",
    "  margins_train[numpy.arange(num_train), ytrain] = -row_sum        \n",
    "  gW += numpy.dot(xtrain.T, margins_train)/num_train + reg * W    \n",
    "  test_loss = 0\n",
    "  scores_test = xtest.dot(W) \n",
    "  num_test = xtest.shape[0]\n",
    "  scores_test_correct = scores_test[numpy.arange(num_test), ytest] \n",
    "  scores_test_correct = numpy.reshape(scores_test_correct, (num_test, 1)) \n",
    "  margins_test = scores_test - scores_test_correct + 1.0 \n",
    "  margins_test[numpy.arange(num_test), ytest] = 0.0 \n",
    "  margins_test[margins_test <= 0] = 0.0\n",
    "  test_loss += numpy.sum(margins_test) / num_test\n",
    "  test_loss += 0.5 * reg * numpy.sum(W * W)\n",
    "\n",
    "  return train_loss, test_loss, gW\n",
    "\n",
    "\n",
    "\n",
    "data = get_data()\n",
    "X=data[0].toarray()\n",
    "Y=data[1]\n",
    "Y=Y.reshape(len(Y),order='C') \n",
    "Y=Y.astype(numpy.int) \n",
    "\n",
    "x_train, x_test, y_train, y_test = train_test_split(X, Y, test_size=0.4, random_state=42)\n",
    "N,D=x_train.shape \n",
    "C=len(list(set(y_train))) \n",
    "\n",
    "W = random.random(size=(D, C)) \n",
    "maxIterations=400\n",
    "th = 0 \n",
    "eta = 0.001 \n",
    "L_train=[];\n",
    "L_test=[];\n",
    "\n",
    "\n",
    " \n",
    "for t in range(maxIterations):\n",
    "    y_train_pred = numpy.dot(x_train,W)\n",
    "    y_train_pred[y_train_pred> th] = 1\n",
    "    y_train_pred[y_train_pred<=th] = 0\n",
    "    \n",
    "    y_test_pred = numpy.dot(x_test,W)\n",
    "    y_test_pred[y_test_pred> th] = 1\n",
    "    y_test_pred[y_test_pred<=th] = 0   \n",
    "    \n",
    "    train_loss, test_loss, grad_W= svm(W, x_train, y_train,  x_test, y_test, reg= 0.1)\n",
    "    \n",
    "    L_train.append (train_loss)\n",
    "    L_test.append (test_loss)\n",
    "\n",
    "    W -= eta * grad_W\n",
    "\n",
    "\n",
    "plt.plot(L_train,'r',label='train loss')\n",
    "plt.plot(L_test,'b',label='test loss')\n",
    "plt.title('Loss Curve') # give plot a title\n",
    "plt.legend()\n",
    "plt.show()\n",
    "\n",
    "\n"
   ]
  },
  {
   "cell_type": "code",
   "execution_count": null,
   "metadata": {
    "collapsed": true
   },
   "outputs": [],
   "source": []
  },
  {
   "cell_type": "code",
   "execution_count": null,
   "metadata": {
    "collapsed": true
   },
   "outputs": [],
   "source": []
  }
 ],
 "metadata": {
  "kernelspec": {
   "display_name": "Python 3",
   "language": "python",
   "name": "python3"
  },
  "language_info": {
   "codemirror_mode": {
    "name": "ipython",
    "version": 3
   },
   "file_extension": ".py",
   "mimetype": "text/x-python",
   "name": "python",
   "nbconvert_exporter": "python",
   "pygments_lexer": "ipython3",
   "version": "3.6.3"
  }
 },
 "nbformat": 4,
 "nbformat_minor": 2
}
